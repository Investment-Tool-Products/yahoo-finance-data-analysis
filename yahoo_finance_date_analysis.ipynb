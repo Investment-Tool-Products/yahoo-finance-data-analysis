{
  "nbformat": 4,
  "nbformat_minor": 0,
  "metadata": {
    "colab": {
      "name": "yahoo-finance-date-analysis.ipynb",
      "private_outputs": true,
      "provenance": [],
      "collapsed_sections": [],
      "authorship_tag": "ABX9TyMAvt/dRbO1xsyG/DyKcHLU",
      "include_colab_link": true
    },
    "kernelspec": {
      "name": "python3",
      "display_name": "Python 3"
    },
    "accelerator": "GPU"
  },
  "cells": [
    {
      "cell_type": "markdown",
      "metadata": {
        "id": "view-in-github",
        "colab_type": "text"
      },
      "source": [
        "<a href=\"https://colab.research.google.com/github/Investment-Tool-Products/yahoo-finance-data-analysis/blob/main/yahoo_finance_date_analysis.ipynb\" target=\"_parent\"><img src=\"https://colab.research.google.com/assets/colab-badge.svg\" alt=\"Open In Colab\"/></a>"
      ]
    },
    {
      "cell_type": "code",
      "metadata": {
        "id": "vNfiCchntl6G"
      },
      "source": [
        "# shawn dong stock price analysis\r\n",
        "import numpy as np\r\n",
        "import pandas as pd\r\n",
        "import pandas_datareader as web\r\n",
        "import datetime as dt\r\n",
        "import matplotlib.pyplot as plt\r\n",
        "import time"
      ],
      "execution_count": null,
      "outputs": []
    },
    {
      "cell_type": "code",
      "metadata": {
        "id": "4p7ylUm2twl3"
      },
      "source": [
        "# use pandas datareader, count time needed for the program\r\n",
        "program_start = time.time()\r\n",
        "pd.core.common.is_list_like = pd.api.types.is_list_like\r\n",
        "ticker = 'FB'\r\n",
        "start = '2020-01-01'\r\n",
        "end = dt.date.today()"
      ],
      "execution_count": null,
      "outputs": []
    },
    {
      "cell_type": "code",
      "metadata": {
        "id": "qV1F6jNLvMUK"
      },
      "source": [
        "data = web.data.get_data_yahoo(ticker, start, end)\r\n",
        "data['MA5'] = data['Close'].rolling(5).mean()\r\n",
        "data['MA10'] = data['Close'].rolling(10).mean()\r\n",
        "data['MA20'] = data['Close'].rolling(20).mean()\r\n",
        "data.info()\r\n",
        "data.tail(20)"
      ],
      "execution_count": null,
      "outputs": []
    },
    {
      "cell_type": "code",
      "metadata": {
        "id": "MlL8J5gBv0Qb"
      },
      "source": [
        "%matplotlib inline\r\n",
        "# plt.style.use('seaborn')\r\n",
        "# plt.xlabel('Date')\r\n",
        "# plt.title(f'{start} to {end} for Adj Close')\r\n",
        "data[['Adj Close','MA5','MA10','MA20']].plot(figsize=(20, 10))\r\n",
        "plt.grid(True)"
      ],
      "execution_count": null,
      "outputs": []
    },
    {
      "cell_type": "code",
      "metadata": {
        "id": "l0cIf2zvz_gv"
      },
      "source": [
        "datas = data[['Close','MA5','MA10','MA20']].dropna()\r\n",
        "datas['MA5-MA20'] = datas['MA5'] - datas['MA20']\r\n",
        "datas.describe()"
      ],
      "execution_count": null,
      "outputs": []
    },
    {
      "cell_type": "code",
      "metadata": {
        "id": "HlDRqbqq0NWZ"
      },
      "source": [
        "SD = -1.3\r\n",
        " \r\n",
        "# generate trading signal\r\n",
        "datas['signal'] = np.where(datas['MA5-MA20'] < SD,1,0)\r\n",
        "datas['signal'] = np.where(datas['MA5-MA20'] > -SD,-1,datas['signal'])\r\n",
        "# calculate return rate\r\n",
        "datas['return'] = (datas['Close'] - datas['Close'].shift(1)) / datas['Close'].shift(1)\r\n",
        " \r\n",
        "# cumulative return rate\r\n",
        "datas['stra_re'] = datas['signal'].shift(1) * datas['return']\r\n",
        " \r\n",
        "datas[['return','stra_re']].cumsum().plot(figsize = (20, 10))\r\n",
        "plt.grid(True)"
      ],
      "execution_count": null,
      "outputs": []
    },
    {
      "cell_type": "code",
      "metadata": {
        "id": "fW3tYlBe1Hvu"
      },
      "source": [
        "datas['stra_sum'] = datas['stra_re'].cumsum()\r\n",
        "print(datas['stra_sum'].describe())\r\n",
        "program_end = time.time()\r\n",
        "print(f'Runtime of the program is {program_end - program_start}')"
      ],
      "execution_count": null,
      "outputs": []
    }
  ]
}